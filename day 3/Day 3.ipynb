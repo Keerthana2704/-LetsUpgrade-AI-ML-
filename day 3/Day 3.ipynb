{
 "cells": [
  {
   "cell_type": "markdown",
   "metadata": {},
   "source": [
    "# Question 1\n",
    "\n",
    "To subtract complex numbers in python"
   ]
  },
  {
   "cell_type": "code",
   "execution_count": 1,
   "metadata": {},
   "outputs": [
    {
     "name": "stdout",
     "output_type": "stream",
     "text": [
      "Subtraction of two complex numbers (2-2j)\n"
     ]
    }
   ],
   "source": [
    "a = 7 + 3j\n",
    "b = 5 + 5j\n",
    "c = a-b\n",
    "\n",
    "print(\"Subtraction of two complex numbers\",c)"
   ]
  },
  {
   "cell_type": "markdown",
   "metadata": {},
   "source": [
    "# Question 2\n",
    "\n",
    "To find fourth root of a given number"
   ]
  },
  {
   "cell_type": "code",
   "execution_count": 1,
   "metadata": {},
   "outputs": [
    {
     "name": "stdout",
     "output_type": "stream",
     "text": [
      "Enter the number 100\n",
      "Fourth root of a number 3.1622776601683795\n"
     ]
    }
   ],
   "source": [
    "a = int(input(\"Enter the number \"))\n",
    "b = 0.25\n",
    "c = a**b\n",
    "print(\"Fourth root of a number\",c)"
   ]
  },
  {
   "cell_type": "markdown",
   "metadata": {},
   "source": [
    "# Question 3\n",
    "\n",
    "Swapping using temp variable"
   ]
  },
  {
   "cell_type": "code",
   "execution_count": 3,
   "metadata": {},
   "outputs": [
    {
     "name": "stdout",
     "output_type": "stream",
     "text": [
      "----Before swapping----\n",
      "The value of x 7\n",
      "The value of y 3\n",
      "----After swapping----\n",
      "The value of x 3\n",
      "The value of y 7\n"
     ]
    }
   ],
   "source": [
    "print(\"----Before swapping----\")\n",
    "x = int(input(\"The value of x \"))\n",
    "y = int(input(\"The value of y \"))\n",
    "\n",
    "temp = x\n",
    "x = y\n",
    "y = temp\n",
    "\n",
    "print(\"----After swapping----\")\n",
    "print(\"The value of x\",x)\n",
    "print(\"The value of y\",y)"
   ]
  },
  {
   "cell_type": "markdown",
   "metadata": {},
   "source": [
    "# Question 4\n",
    "\n",
    "Swapping without temp variable"
   ]
  },
  {
   "cell_type": "code",
   "execution_count": 4,
   "metadata": {},
   "outputs": [
    {
     "name": "stdout",
     "output_type": "stream",
     "text": [
      "----Before swapping----\n",
      "The value of x 45\n",
      "The value of y 90\n",
      "----After swapping----\n",
      "The value of x 90\n",
      "The value of y 45\n"
     ]
    }
   ],
   "source": [
    "print(\"----Before swapping----\")\n",
    "x = int(input(\"The value of x \"))\n",
    "y = int(input(\"The value of y \"))\n",
    "\n",
    "x,y = y,x\n",
    "\n",
    "print(\"----After swapping----\")\n",
    "print(\"The value of x\",x)\n",
    "print(\"The value of y\",y)"
   ]
  },
  {
   "cell_type": "markdown",
   "metadata": {},
   "source": [
    "# Question 5\n",
    "\n",
    "Convert Farenheit to kelvin and celsius"
   ]
  },
  {
   "cell_type": "code",
   "execution_count": 6,
   "metadata": {},
   "outputs": [
    {
     "name": "stdout",
     "output_type": "stream",
     "text": [
      "Enter the temperature in Farenheit 32.00\n",
      "The temperature in kelvin scale 273.15\n",
      "The temperature in celsius scale 0.0\n"
     ]
    }
   ],
   "source": [
    "temp = float(input(\"Enter the temperature in Farenheit \"))\n",
    "kelvin = (temp-32) * 5/9 + 273.15\n",
    "print(\"The temperature in kelvin scale\",kelvin)\n",
    "celsius = (temp - 32) * 5/9\n",
    "print(\"The temperature in celsius scale\",celsius)\n"
   ]
  },
  {
   "cell_type": "markdown",
   "metadata": {},
   "source": [
    "# Question 6\n",
    "\n",
    "Datatypes of python using type()"
   ]
  },
  {
   "cell_type": "code",
   "execution_count": 7,
   "metadata": {},
   "outputs": [
    {
     "name": "stdout",
     "output_type": "stream",
     "text": [
      "<class 'int'>\n",
      "<class 'str'>\n",
      "<class 'float'>\n",
      "<class 'complex'>\n",
      "<class 'bool'>\n"
     ]
    }
   ],
   "source": [
    "num = 23\n",
    "char = \"Welcome\"\n",
    "flo = 56.9875\n",
    "comp = 2+6j\n",
    "boo = True\n",
    "print(type(num))\n",
    "print(type(char))\n",
    "print(type(flo))\n",
    "print(type(comp))\n",
    "print(type(boo))\n",
    "\n"
   ]
  }
 ],
 "metadata": {
  "kernelspec": {
   "display_name": "Python 3",
   "language": "python",
   "name": "python3"
  },
  "language_info": {
   "codemirror_mode": {
    "name": "ipython",
    "version": 3
   },
   "file_extension": ".py",
   "mimetype": "text/x-python",
   "name": "python",
   "nbconvert_exporter": "python",
   "pygments_lexer": "ipython3",
   "version": "3.8.3"
  }
 },
 "nbformat": 4,
 "nbformat_minor": 4
}
