{
 "cells": [
  {
   "cell_type": "markdown",
   "metadata": {},
   "source": [
    "## Question 1"
   ]
  },
  {
   "cell_type": "markdown",
   "metadata": {},
   "source": [
    "*Only addition, subtraction, multiplication and division operations can be done between variable of complex data type in python.Floor division and modulo operation is not possible*\n",
    "\n"
   ]
  },
  {
   "cell_type": "code",
   "execution_count": 3,
   "metadata": {},
   "outputs": [
    {
     "name": "stdout",
     "output_type": "stream",
     "text": [
      "Enter the First number= 2+5j\n",
      "Enter the second number.= 3+6j\n",
      "============================================\n",
      "Addition of two complex numbers :  (5+11j)\n",
      "Subtraction of two complex numbers :  (-1-1j)\n",
      "Multiplication of two complex numbers :  (-24+27j)\n",
      "Division of two complex numbers :  (0.8+0.06666666666666667j)\n"
     ]
    }
   ],
   "source": [
    "c1 = complex(input(\"Enter the First number= \"))\n",
    "c2 = complex(input(\"Enter the second number.= \"))\n",
    "print(\"============================================\")\n",
    "print(\"Addition of two complex numbers : \",(c1+c2))\n",
    "print(\"Subtraction of two complex numbers : \",(c1-c2))\n",
    "print(\"Multiplication of two complex numbers : \",(c1*c2))\n",
    "print(\"Division of two complex numbers : \",(c1/c2))\n",
    "#print(\"Floor Division of two complex numbers : \",(c1//c2))#can't take floor of complex numbers\n",
    "#print(\"Modulo of two complex numbers : \",(c1%c2))#can't mod complex numbers\n"
   ]
  },
  {
   "cell_type": "markdown",
   "metadata": {},
   "source": [
    "## Question 2"
   ]
  },
  {
   "cell_type": "markdown",
   "metadata": {},
   "source": [
    "# ~>Range is a in-built function\n",
    "~>It generates sequence of number \n",
    "~>It takes three parameters\n",
    "      - start(optional) \n",
    "            Its a integer value which represents the starting position of the sequence.The default value is 0.\n",
    "      - end(required)\n",
    "            Its a integer value which represents the ending position of the sequence.\n",
    "      - step(optional)\n",
    "            Its also a integer value which represents the incremental/decremental value.The default value is 1."
   ]
  },
  {
   "cell_type": "code",
   "execution_count": 5,
   "metadata": {},
   "outputs": [
    {
     "name": "stdout",
     "output_type": "stream",
     "text": [
      "Enter the starting value of the sequence 1\n",
      "Enter the end value of the sequence 8\n",
      "Enter the incremental/decremental value 2\n",
      "[1, 3, 5, 7]\n"
     ]
    }
   ],
   "source": [
    "s=0\n",
    "s=int(input(\"Enter the starting value of the sequence \" ))\n",
    "e=int(input(\"Enter the end value of the sequence \" ))\n",
    "step=int(input(\"Enter the incremental/decremental value \" ))\n",
    "print(list(range(s,e,step)))"
   ]
  },
  {
   "cell_type": "markdown",
   "metadata": {},
   "source": [
    "## Question 3"
   ]
  },
  {
   "cell_type": "code",
   "execution_count": 6,
   "metadata": {},
   "outputs": [
    {
     "name": "stdout",
     "output_type": "stream",
     "text": [
      "Enter the first number 24\n",
      "Enter the second number 6\n",
      "The result is  4.0\n"
     ]
    }
   ],
   "source": [
    "n1 = int(input(\"Enter the first number \"))\n",
    "n2 = int(input(\"Enter the second number \"))\n",
    "s = n1-n2\n",
    "if s>25:\n",
    "    print(\"The result is \",n1*n2)\n",
    "else:\n",
    "    print(\"The result is \",n1/n2)    "
   ]
  },
  {
   "cell_type": "markdown",
   "metadata": {},
   "source": [
    "## Question 4"
   ]
  },
  {
   "cell_type": "code",
   "execution_count": 6,
   "metadata": {},
   "outputs": [
    {
     "name": "stdout",
     "output_type": "stream",
     "text": [
      "Enter 10 elements of the list\n",
      "1\n",
      "44\n",
      "23\n",
      "56\n",
      "78\n",
      "236\n",
      "23\n",
      "67\n",
      "34\n",
      "78\n",
      "The result is [1934, 3134, 6082, 55694, 1154, 6082]\n"
     ]
    }
   ],
   "source": [
    "print(\"Enter 10 elements of the list\")\n",
    "list1 = []\n",
    "res =[]\n",
    "for i in range(10):\n",
    "    t=int(input())\n",
    "    list1.append(t)\n",
    "for i in list1:\n",
    "    if i%2 == 0:\n",
    "        res.append((i**2)-2)\n",
    "print(\"The result is\",res)"
   ]
  },
  {
   "cell_type": "markdown",
   "metadata": {},
   "source": [
    "## Question 5"
   ]
  },
  {
   "cell_type": "code",
   "execution_count": 8,
   "metadata": {},
   "outputs": [
    {
     "name": "stdout",
     "output_type": "stream",
     "text": [
      "Enter 10 elements of the list\n",
      "12\n",
      "42\n",
      "1\n",
      "4\n",
      "5\n",
      "8\n",
      "23\n",
      "11\n",
      "10\n",
      "23\n",
      "The result is [42, 23, 23]\n"
     ]
    }
   ],
   "source": [
    "print(\"Enter 10 elements of the list\")\n",
    "list1 = []\n",
    "res = []\n",
    "for i in range(10):\n",
    "    t=int(input())\n",
    "    list1.append(t)\n",
    "for i in list1:\n",
    "    if i/2 > 7:\n",
    "        res.append(i)\n",
    "print(\"The result is\",res)\n"
   ]
  }
 ],
 "metadata": {
  "kernelspec": {
   "display_name": "Python 3",
   "language": "python",
   "name": "python3"
  },
  "language_info": {
   "codemirror_mode": {
    "name": "ipython",
    "version": 3
   },
   "file_extension": ".py",
   "mimetype": "text/x-python",
   "name": "python",
   "nbconvert_exporter": "python",
   "pygments_lexer": "ipython3",
   "version": "3.8.3"
  }
 },
 "nbformat": 4,
 "nbformat_minor": 4
}
